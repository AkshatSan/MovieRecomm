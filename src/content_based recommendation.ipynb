{
 "cells": [
  {
   "cell_type": "code",
   "execution_count": 23,
   "id": "4f9a9821",
   "metadata": {},
   "outputs": [],
   "source": [
    "import pandas as pd\n",
    "from sklearn.feature_extraction.text import TfidfVectorizer\n",
    "from sklearn.metrics.pairwise import linear_kernel"
   ]
  },
  {
   "cell_type": "code",
   "execution_count": 4,
   "id": "73b09a25",
   "metadata": {},
   "outputs": [],
   "source": [
    "base_path = '..' #/Users/akshatpandey/Thesisproject/Movie recommendation/data/ratings.csv"
   ]
  },
  {
   "cell_type": "code",
   "execution_count": 5,
   "id": "d4896c80",
   "metadata": {},
   "outputs": [],
   "source": [
    "\n",
    "# Reading ratings file\n",
    "# Ignore the timestamp column\n",
    "#sep and encoding is used because csv file is not in correct format\n",
    "\n",
    "\n",
    "ratings = pd.read_csv(base_path+'//data//ratings.csv',sep='\\t', encoding='latin-1',usecols=['user_id', 'movie_id', 'rating'])\n",
    "\n",
    "# Reading users file\n",
    "users = pd.read_csv(base_path+'//data//users.csv',sep='\\t' ,encoding='latin-1',usecols=['user_id', 'gender', 'zipcode', 'age_desc', 'occ_desc'])\n",
    "\n",
    "# Reading movies file\n",
    "movies = pd.read_csv(base_path+'//data//movies.csv',sep='\\t',encoding='latin-1', usecols=['movie_id', 'title', 'genres'])"
   ]
  },
  {
   "cell_type": "code",
   "execution_count": 9,
   "id": "d0c48181",
   "metadata": {},
   "outputs": [],
   "source": [
    "movies['genres'] = movies['genres'].str.split('|')"
   ]
  },
  {
   "cell_type": "code",
   "execution_count": 18,
   "id": "d5a51b71",
   "metadata": {},
   "outputs": [],
   "source": [
    "movies['genres'] = movies['genres'].fillna(\"\").astype('str')"
   ]
  },
  {
   "cell_type": "code",
   "execution_count": 19,
   "id": "e73b90e5",
   "metadata": {},
   "outputs": [],
   "source": [
    "tf = TfidfVectorizer(analyzer='word',ngram_range=(1, 2),min_df=0, stop_words='english')\n",
    "tfidf_matrix = tf.fit_transform(movies['genres'])"
   ]
  },
  {
   "cell_type": "code",
   "execution_count": 22,
   "id": "fb85c052",
   "metadata": {},
   "outputs": [
    {
     "data": {
      "text/plain": [
       "<0x127 sparse matrix of type '<class 'numpy.float64'>'\n",
       "\twith 0 stored elements in Compressed Sparse Row format>"
      ]
     },
     "execution_count": 22,
     "metadata": {},
     "output_type": "execute_result"
    }
   ],
   "source": [
    "tfidf_matrix[1:1]"
   ]
  },
  {
   "cell_type": "code",
   "execution_count": 26,
   "id": "69769867",
   "metadata": {},
   "outputs": [
    {
     "data": {
      "text/plain": [
       "array([[1.        , 0.14193614, 0.09010857, 0.1056164 , 0.23523322],\n",
       "       [0.14193614, 1.        , 0.        , 0.        , 0.        ],\n",
       "       [0.09010857, 0.        , 1.        , 0.1719888 , 0.38306058],\n",
       "       [0.1056164 , 0.        , 0.1719888 , 1.        , 0.4489859 ],\n",
       "       [0.23523322, 0.        , 0.38306058, 0.4489859 , 1.        ]])"
      ]
     },
     "execution_count": 26,
     "metadata": {},
     "output_type": "execute_result"
    }
   ],
   "source": [
    "cosine_sim = linear_kernel(tfidf_matrix, tfidf_matrix)\n",
    "cosine_sim[:5, :5]"
   ]
  },
  {
   "cell_type": "code",
   "execution_count": 44,
   "id": "95e6a702",
   "metadata": {},
   "outputs": [],
   "source": [
    "title = movies['title']\n",
    "indices = pd.Series(movies.index, index=movies['title'])"
   ]
  },
  {
   "cell_type": "code",
   "execution_count": 53,
   "id": "e5a6bef6",
   "metadata": {},
   "outputs": [],
   "source": [
    "def genre_recommendations(title):\n",
    "    idx = indices[title]\n",
    "    sim_scores = list(enumerate(cosine_sim[idx]))\n",
    "    sim_scores = sorted(sim_scores, key=lambda x: x[1], reverse=True)\n",
    "    sim_scores = sim_scores[1:21]\n",
    "    movie_indices = [i[0] for i in sim_scores]\n",
    "    return titles.iloc[movie_indices]"
   ]
  },
  {
   "cell_type": "code",
   "execution_count": 68,
   "id": "e5624bbc",
   "metadata": {},
   "outputs": [
    {
     "data": {
      "text/plain": [
       "1050               Aladdin and the King of Thieves (1996)\n",
       "2072                             American Tail, An (1986)\n",
       "2073           American Tail: Fievel Goes West, An (1991)\n",
       "2285                            Rugrats Movie, The (1998)\n",
       "2286                                 Bug's Life, A (1998)\n",
       "3045                                   Toy Story 2 (1999)\n",
       "3542                                Saludos Amigos (1943)\n",
       "3682                                   Chicken Run (2000)\n",
       "3685       Adventures of Rocky and Bullwinkle, The (2000)\n",
       "236                                 Goofy Movie, A (1995)\n",
       "12                                           Balto (1995)\n",
       "241                               Gumby: The Movie (1995)\n",
       "310                             Swan Princess, The (1994)\n",
       "592                                      Pinocchio (1940)\n",
       "612                                Aristocats, The (1970)\n",
       "700                               Oliver & Company (1988)\n",
       "876     Land Before Time III: The Time of the Great Gi...\n",
       "1010          Winnie the Pooh and the Blustery Day (1968)\n",
       "1012                       Sword in the Stone, The (1963)\n",
       "1020                        Fox and the Hound, The (1981)\n",
       "Name: title, dtype: object"
      ]
     },
     "execution_count": 68,
     "metadata": {},
     "output_type": "execute_result"
    }
   ],
   "source": [
    "genre_recommendations('Toy Story (1995)').head(20)"
   ]
  },
  {
   "cell_type": "code",
   "execution_count": 71,
   "id": "9a6a6e80",
   "metadata": {},
   "outputs": [
    {
     "data": {
      "text/html": [
       "<div>\n",
       "<style scoped>\n",
       "    .dataframe tbody tr th:only-of-type {\n",
       "        vertical-align: middle;\n",
       "    }\n",
       "\n",
       "    .dataframe tbody tr th {\n",
       "        vertical-align: top;\n",
       "    }\n",
       "\n",
       "    .dataframe thead th {\n",
       "        text-align: right;\n",
       "    }\n",
       "</style>\n",
       "<table border=\"1\" class=\"dataframe\">\n",
       "  <thead>\n",
       "    <tr style=\"text-align: right;\">\n",
       "      <th></th>\n",
       "      <th>movie_id</th>\n",
       "      <th>title</th>\n",
       "      <th>genres</th>\n",
       "    </tr>\n",
       "  </thead>\n",
       "  <tbody>\n",
       "    <tr>\n",
       "      <th>1050</th>\n",
       "      <td>1064</td>\n",
       "      <td>Aladdin and the King of Thieves (1996)</td>\n",
       "      <td>['Animation', \"Children's\", 'Comedy']</td>\n",
       "    </tr>\n",
       "  </tbody>\n",
       "</table>\n",
       "</div>"
      ],
      "text/plain": [
       "      movie_id                                   title  \\\n",
       "1050      1064  Aladdin and the King of Thieves (1996)   \n",
       "\n",
       "                                     genres  \n",
       "1050  ['Animation', \"Children's\", 'Comedy']  "
      ]
     },
     "execution_count": 71,
     "metadata": {},
     "output_type": "execute_result"
    }
   ],
   "source": [
    "movies[movies[\"title\"]=='Aladdin and the King of Thieves (1996)']"
   ]
  },
  {
   "cell_type": "code",
   "execution_count": 72,
   "id": "5e8e770c",
   "metadata": {},
   "outputs": [
    {
     "data": {
      "text/html": [
       "<div>\n",
       "<style scoped>\n",
       "    .dataframe tbody tr th:only-of-type {\n",
       "        vertical-align: middle;\n",
       "    }\n",
       "\n",
       "    .dataframe tbody tr th {\n",
       "        vertical-align: top;\n",
       "    }\n",
       "\n",
       "    .dataframe thead th {\n",
       "        text-align: right;\n",
       "    }\n",
       "</style>\n",
       "<table border=\"1\" class=\"dataframe\">\n",
       "  <thead>\n",
       "    <tr style=\"text-align: right;\">\n",
       "      <th></th>\n",
       "      <th>movie_id</th>\n",
       "      <th>title</th>\n",
       "      <th>genres</th>\n",
       "    </tr>\n",
       "  </thead>\n",
       "  <tbody>\n",
       "    <tr>\n",
       "      <th>0</th>\n",
       "      <td>1</td>\n",
       "      <td>Toy Story (1995)</td>\n",
       "      <td>['Animation', \"Children's\", 'Comedy']</td>\n",
       "    </tr>\n",
       "  </tbody>\n",
       "</table>\n",
       "</div>"
      ],
      "text/plain": [
       "   movie_id             title                                 genres\n",
       "0         1  Toy Story (1995)  ['Animation', \"Children's\", 'Comedy']"
      ]
     },
     "execution_count": 72,
     "metadata": {},
     "output_type": "execute_result"
    }
   ],
   "source": [
    "movies[movies[\"title\"]=='Toy Story (1995)']"
   ]
  },
  {
   "cell_type": "markdown",
   "id": "f3835240",
   "metadata": {},
   "source": [
    "# hence our recommendor system is working good\n",
    "# That is, it is not capable of capturing tastes and providing recommendations across genres"
   ]
  },
  {
   "cell_type": "code",
   "execution_count": null,
   "id": "e0540557",
   "metadata": {},
   "outputs": [],
   "source": []
  }
 ],
 "metadata": {
  "kernelspec": {
   "display_name": "Python 3 (ipykernel)",
   "language": "python",
   "name": "python3"
  },
  "language_info": {
   "codemirror_mode": {
    "name": "ipython",
    "version": 3
   },
   "file_extension": ".py",
   "mimetype": "text/x-python",
   "name": "python",
   "nbconvert_exporter": "python",
   "pygments_lexer": "ipython3",
   "version": "3.8.16"
  }
 },
 "nbformat": 4,
 "nbformat_minor": 5
}
